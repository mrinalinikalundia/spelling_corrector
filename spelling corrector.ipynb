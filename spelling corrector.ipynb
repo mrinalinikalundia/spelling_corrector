{
 "cells": [
  {
   "cell_type": "code",
   "execution_count": 1,
   "id": "9d5ca22a",
   "metadata": {},
   "outputs": [
    {
     "name": "stdout",
     "output_type": "stream",
     "text": [
      "Requirement already satisfied: textblob in f:\\anaconda\\lib\\site-packages (0.17.1)\n",
      "Requirement already satisfied: nltk>=3.1 in f:\\anaconda\\lib\\site-packages (from textblob) (3.7)\n",
      "Requirement already satisfied: click in f:\\anaconda\\lib\\site-packages (from nltk>=3.1->textblob) (7.1.2)\n",
      "Requirement already satisfied: tqdm in f:\\anaconda\\lib\\site-packages (from nltk>=3.1->textblob) (4.64.1)\n",
      "Requirement already satisfied: regex>=2021.8.3 in f:\\anaconda\\lib\\site-packages (from nltk>=3.1->textblob) (2022.7.9)\n",
      "Requirement already satisfied: joblib in f:\\anaconda\\lib\\site-packages (from nltk>=3.1->textblob) (0.15.1)\n",
      "Requirement already satisfied: colorama in f:\\anaconda\\lib\\site-packages (from tqdm->nltk>=3.1->textblob) (0.4.5)\n"
     ]
    }
   ],
   "source": [
    "! pip install textblob"
   ]
  },
  {
   "cell_type": "code",
   "execution_count": 2,
   "id": "73216b92",
   "metadata": {},
   "outputs": [],
   "source": [
    "from tkinter import *"
   ]
  },
  {
   "cell_type": "code",
   "execution_count": 3,
   "id": "6b26e535",
   "metadata": {},
   "outputs": [],
   "source": [
    "from textblob import TextBlob"
   ]
  },
  {
   "cell_type": "code",
   "execution_count": 4,
   "id": "11fd4fb9",
   "metadata": {},
   "outputs": [],
   "source": [
    "window=Tk()"
   ]
  },
  {
   "cell_type": "code",
   "execution_count": 5,
   "id": "b5052c71",
   "metadata": {},
   "outputs": [
    {
     "data": {
      "text/plain": [
       "''"
      ]
     },
     "execution_count": 5,
     "metadata": {},
     "output_type": "execute_result"
    }
   ],
   "source": [
    "window.title(\"My spelling checker\")"
   ]
  },
  {
   "cell_type": "code",
   "execution_count": 6,
   "id": "bbbecf1f",
   "metadata": {},
   "outputs": [
    {
     "data": {
      "text/plain": [
       "''"
      ]
     },
     "execution_count": 6,
     "metadata": {},
     "output_type": "execute_result"
    }
   ],
   "source": [
    "window.geometry(\"800x600\")"
   ]
  },
  {
   "cell_type": "code",
   "execution_count": 7,
   "id": "22a916eb",
   "metadata": {},
   "outputs": [],
   "source": [
    "window.config(background=\"light blue\")"
   ]
  },
  {
   "cell_type": "code",
   "execution_count": 8,
   "id": "20298540",
   "metadata": {},
   "outputs": [],
   "source": [
    "text_heading= Label(window,text=\"Spelling Checker\",font=(\"Arial\",50,\"bold\"),bg=\"black\",fg=\"light pink\")\n",
    "text_heading.pack()"
   ]
  },
  {
   "cell_type": "code",
   "execution_count": 9,
   "id": "777cb550",
   "metadata": {},
   "outputs": [],
   "source": [
    "text_check= Label(window,text=\"Enter the Text\", font=(\"Arial\",35,\"bold\"),bg=\"yellow\",fg=\"red\")\n",
    "text_check.pack()"
   ]
  },
  {
   "cell_type": "code",
   "execution_count": 10,
   "id": "46aebd5a",
   "metadata": {},
   "outputs": [],
   "source": [
    "spell_check= Entry(window, font=(\"Arial\",45,\"bold\"),width=500,bg=\"dark green\")\n",
    "spell_check.pack()"
   ]
  },
  {
   "cell_type": "code",
   "execution_count": 11,
   "id": "5ee709ee",
   "metadata": {},
   "outputs": [],
   "source": [
    "def check_spelling():\n",
    "    a=TextBlob(spell_check.get())\n",
    "    spell= Label(window,text=\"The Correct Spelling is:\", font=(\"Arial\",30,\"bold\"),bg=\"grey\")\n",
    "    spell.pack()\n",
    "    correct_text= Label(window,text=str(a.correct()), font=(\"Arial\",45,\"bold\"),bg=\"purple\")\n",
    "    correct_text.pack()"
   ]
  },
  {
   "cell_type": "code",
   "execution_count": 12,
   "id": "89830b42",
   "metadata": {},
   "outputs": [],
   "source": [
    "check_button= Button(window,text=\"Check!!\",font=(\"Arial\",30,\"bold\"),width=500,bg=\"red\",fg=\"white\", command=check_spelling)\n",
    "check_button.pack()"
   ]
  },
  {
   "cell_type": "code",
   "execution_count": 13,
   "id": "a9648019",
   "metadata": {},
   "outputs": [],
   "source": [
    "window.mainloop()"
   ]
  },
  {
   "cell_type": "code",
   "execution_count": null,
   "id": "3eae09a5",
   "metadata": {},
   "outputs": [],
   "source": []
  }
 ],
 "metadata": {
  "kernelspec": {
   "display_name": "Python 3",
   "language": "python",
   "name": "python3"
  },
  "language_info": {
   "codemirror_mode": {
    "name": "ipython",
    "version": 3
   },
   "file_extension": ".py",
   "mimetype": "text/x-python",
   "name": "python",
   "nbconvert_exporter": "python",
   "pygments_lexer": "ipython3",
   "version": "3.9.13"
  }
 },
 "nbformat": 4,
 "nbformat_minor": 5
}
